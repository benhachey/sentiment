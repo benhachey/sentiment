{
 "cells": [
  {
   "cell_type": "code",
   "execution_count": 18,
   "metadata": {
    "collapsed": true
   },
   "outputs": [],
   "source": [
    "from pattern.en import sentiment\n",
    "import csv"
   ]
  },
  {
   "cell_type": "markdown",
   "metadata": {},
   "source": [
    "### Read statements"
   ]
  },
  {
   "cell_type": "code",
   "execution_count": 19,
   "metadata": {
    "collapsed": false
   },
   "outputs": [],
   "source": [
    "with open('data/directors-reports-20170226.csv') as ifh:\n",
    "    r = csv.DictReader(ifh)\n",
    "    comments = list(r)"
   ]
  },
  {
   "cell_type": "markdown",
   "metadata": {},
   "source": [
    "### Compute sentiment and print"
   ]
  },
  {
   "cell_type": "code",
   "execution_count": 20,
   "metadata": {
    "collapsed": false
   },
   "outputs": [],
   "source": [
    "CODE = 'ASX Code'\n",
    "NAME = 'Company name'\n",
    "SECTOR = 'Sector '\n",
    "STATEMENT = 'Statement'\n",
    "POLARITY = 'Polarity'\n",
    "SUBJECTIVITY = 'Subjectivity'\n",
    "\n",
    "copy_fields = [CODE, NAME, SECTOR]\n",
    "fieldnames = copy_fields + [POLARITY, SUBJECTIVITY]\n",
    "\n",
    "with open('data/directors-reports-sentiment-20170226.csv', 'wb') as ofh:\n",
    "    w = csv.DictWriter(ofh, fieldnames=fieldnames)\n",
    "    w.writeheader()\n",
    "\n",
    "    for c in comments:\n",
    "        row = {k:c[k] for k in copy_fields}\n",
    "        s = c[STATEMENT].strip()\n",
    "        row[POLARITY], row[SUBJECTIVITY] = sentiment(s) if s else ('','')\n",
    "        w.writerow(row)"
   ]
  }
 ],
 "metadata": {
  "kernelspec": {
   "display_name": "Python 2",
   "language": "python",
   "name": "python2"
  },
  "language_info": {
   "codemirror_mode": {
    "name": "ipython",
    "version": 2
   },
   "file_extension": ".py",
   "mimetype": "text/x-python",
   "name": "python",
   "nbconvert_exporter": "python",
   "pygments_lexer": "ipython2",
   "version": "2.7.12"
  }
 },
 "nbformat": 4,
 "nbformat_minor": 2
}
