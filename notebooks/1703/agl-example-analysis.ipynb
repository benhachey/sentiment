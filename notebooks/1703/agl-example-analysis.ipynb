{
 "cells": [
  {
   "cell_type": "markdown",
   "metadata": {},
   "source": [
    "# Simple sentiment analysis for AGL directors comments\n",
    "\n",
    "Using the sentiment analysis functionality from the Pattern natural language processing library:\n",
    "http://www.clips.ua.ac.be/pages/pattern-en#sentiment"
   ]
  },
  {
   "cell_type": "code",
   "execution_count": 17,
   "metadata": {
    "collapsed": true
   },
   "outputs": [],
   "source": [
    "from pattern.en import sentiment"
   ]
  },
  {
   "cell_type": "markdown",
   "metadata": {},
   "source": [
    "## Load the text\n",
    "\n",
    "I opened the Word document and saved as plain text. Won't need to do this for data that's been pasted into the spreadsheet, but it was the quickest way to run an analysis.\n",
    "\n",
    "It looks like some punctuation hasn't survived the transformation, e.g., apostrophes. Cleaner text, including this punctuation and the newlines lost in the initial copy-paste would be better for more detailed natural language processing. \n",
    "\n",
    "However, the text is pretty clean. It is certainly sufficient for the simple approach from the Pattern library, which averages sentiment values from a lexicon."
   ]
  },
  {
   "cell_type": "code",
   "execution_count": 18,
   "metadata": {},
   "outputs": [
    {
     "name": "stdout",
     "output_type": "stream",
     "text": [
      "In accordance with a resolution of the Board, the Directors present their report on the consolidated entity (AGL) consisting of AGL Energy Limited and its controlled entities, either during or at the end of the half-year ended 31 December 2016 (the period). Financial comparisons used in this report are of results for the halfyear ended 31 December 2015 (the prior corresponding period) for statement of profit or loss and cash flow analysis, and 30 June 2016 for statement of financial position analysis. 1. About AGL AGL is one of Australia�s leading integrated energy companies. It is taking action to responsibly reduce its greenhouse gas emissions, while providing secure and affordable energy to its customers. Drawing on over 175 years of experience, AGL serves its customers throughout eastern Australia by meeting their energy requirements, including gas, electricity, solar PV and related products and services. AGL has a diverse power generation portfolio including base, peaking and intermediate generation plants, spread across traditional thermal generation, as well as renewable sources including hydro, wind, solar, landfill gas and biomass. Principal Activities � Buying and selling of gas and electricity and related products and services; � Construction and/or operation of power generation and energy processing infrastructure; � Operation of natural gas storage facilities; and � Sale of distributed generation technologies including solar, digital meters, storage and other business and residential energy services. 2. Operating Segments AGL views the business as three integrated segments collectively servicing customers� needs. AGL�s reportable segments are: � Energy Markets sells electricity, natural gas, and energy related products and services to consumer, business and wholesale customers, currently servicing approximately 3.7 million customer accounts. Energy Markets is also responsible for managing the wholesale risks associated with satisfying the customer requirements across the portfolios. � Group Operations is a diverse power generation portfolio, spread across traditional thermal generation, natural gas, gas storage, and renewable sources including hydro, wind and solar. � Investments includes equity-accounted investments in various energy related businesses, including the ActewAGL Retail Partnership, the Powering Australian Renewables Fund (PARF) and Sunverge Energy Inc. AGL operates as an integrated business and uses a portfolio approach to manage its operations and assets to drive value and efficiency. AASB 8 Operating Segments requires AGL to report segment information on the same basis as the internal management structure. As a result, the Energy Markets segment reports the revenue and margin associated with satisfying the gas and electricity requirements of AGL�s wholesale, consumer and business customer portfolio. In contrast, the Group Operations segment reports the majority of expenses associated with these operations. On 21 December 2016, AGL announced changes to its segment reporting. The previous New Energy business was separated and allocated into other AGL business units. New Energy Services was reallocated to Energy Markets and Distributed Energy Services was allocated to Group Operations. The remainder of the New Energy business will become an �innovation accelerator� reported under Centrally Managed Expenses. Business Units AGL�s segments include the following business units. Energy Markets Energy Markets comprises three business units: Customer (formerly Consumer Market and Business Customers); Wholesale Markets and New Energy Services (NES). The Customer business unit sells electricity, natural gas, and energy related products and services to household and business customers. It sources its energy from Wholesale Markets. The transfer price for energy is calculated based on methodologies that reflect the prevailing wholesale market conditions and other energy costs in each state. Wholesale Markets, which includes Wholesale Electricity, Wholesale Gas and Eco-markets is responsible for managing the price risk associated with procuring electricity and gas and for managing AGL�s green product obligations. It also controls the dispatch of owned and contracted generation assets, which are complemented by a portfolio of energy hedge products. To manage risk, AGL has in place a governance framework, which establishes the policy guidelines under which energy hedging activities are conducted. Key components of that policy include segregation of duties, independent risk oversight, Earnings at Risk limits and regular reporting to the Board. The risk policy mandates that the principal purpose of energy trading is to hedge AGL�s market price exposure resulting from operating an integrated energy business. The policy allows for commercial optimisation of the portfolio provided that overall Earnings at Risk limits are adhered to and AGL�s risk appetite objectives are not endangered. Wholesale Electricity is responsible for managing the procurement of key fuel inputs and hedging of AGL�s wholesale electricity requirements, for commercial management of the generation portfolio and for wholesale pricing to support AGL�s consumer and business customer bases. 3 Wholesale Gas is responsible for sourcing and managing AGL�s gas supply and transportation portfolio to maximise wholesale price effectiveness for the Customer businesses. Wholesale Gas supplies other retailers, internal, third-party gas-fired generators and other gas customers. Wholesale Gas is also responsible for the management of the price exposures related to AGL�s oil linked wholesale gas contracts. Eco Markets is responsible for managing AGL�s liabilities relating to both voluntary and mandatory green schemes. The largest schemes in which Eco Markets participates are the Small-scale Renewable Energy Scheme (SRES) and the Large-scale Renewable Energy Target (LRET). New Energy Services (NES) includes residential and commercial solar and business energy-efficiency solutions. Group Operations Group Operations� portfolio is spread across the following: Thermal Renewables Natural Gas Other Operations AGL Macquarie Wind farms Camden Distributed Energy Services AGL Loy Yang Hydro Moranbah Technical functions AGL Torrens Solar plants Silver Springs Safety & environment Newcastle Gas Storage Facility The above list includes only major elements, hence is not all inclusive. AGL's thermal energy assets include: � AGL Macquarie, which produces approximately 13% of the electricity required by consumers in eastern Australia. AGL Macquarie�s assets include the 2,640 MW Bayswater power station, the 2,000 MW Liddell power station (both of which are black coal plants), the 50 MW Hunter Valley gas turbines and the Liddell solar thermal project. � AGL Loy Yang, which supplies approximately 30% of Victoria�s power requirements. It comprises the 2,210 MW Loy Yang A power station and adjacent Loy Yang coal mine. AGL Loy Yang uses brown coal, supplied exclusively by the open cut mine, as the fuel source to generate electricity. The mine has an annual output of approximately 30 million tonnes of coal. � AGL Torrens is the largest power station in South Australia and the largest natural gas-fired power station in Australia, with name plate capacity of 1,280 MW. AGL is the largest ASX listed operator and developer of renewable energy generation in Australia. AGL operates hydroelectric power stations in Victoria and NSW, with the three primary schemes located in the Kiewa, Dartmouth and Eildon catchments with total installed capacity of 788 MW. AGL operates seven wind farms spread across South Australia and Victoria with installed capacity of 925 MW of wind generation. In November 2016, AGL divested the solar plant assets at Broken Hill (53 MW) and Nyngan (102 MW) in NSW into the PARF. AGL continues to operate the solar plant assets, refer to section 1.6 of the Operating & Financial Review for further details. AGL operates and maintains natural gas assets and investments including Camden, the Silver Springs underground storage facility, Moranbah, the Wallumbilla LPG plant and the Newcastle Gas Storage Facility. Following a strategic review announced in February 2016, natural gas exploration and production is no longer a core business of AGL. As such, a number of these assets are to be divested or have been slated for closure. In December 2016, AGL announced that the Distributed Energy Services (DES) business previously managed through the New Energy segment would be incorporated into Group Operations. DES comprises Active Stream (Digital Metering), National Assets (co-generation and renewable generation, compressed natural gas refuelling and Electroserv factory assets), and Solar & Storage Operations (solar and storage installation, operational support for early New Energy product testing and delivery of scale). Investments AGL has investments in various energy related businesses. ActewAGL is a 50/50 partnership between AGL and Icon Water Limited (formerly Actew Corporation), an ACT Government owned enterprise. Established in 2000, it was the first utility joint venture in Australia between a private company and a publicly owned enterprise. AGL acquired a 22% interest in Sunverge Energy Inc (Sunverge) in February 2016. The investment provides AGL with exclusive access in Australia to Sunverge�s proprietary technology and products. In November 2016, AGL acquired a 20% equity share in the PARF and committed to a US$50 million investment in the Energy Impact Fund. Centrally Managed Expenses (CME) AGL centrally manages a number of expense items, including information technology, to maximise operational efficiencies, minimise costs and optimise service levels across business divisions. While these costs would not be incurred but for the existence of the business units, they have not been formally reallocated because the management of these costs is the responsibility of various corporate functions. 4 The New Energy �innovation accelerator� business (formerly of the New Energy segment) is now reported under CME. This includes Strategic Partnerships & Investments, Commercial Development and Technology Innovation & Development. 3. Review of Operations and Results A review of the operations and results of AGL during the period is set out in the Operating & Financial Review, which is attached to and forms part of this Directors� Report. 4. Acquisitions and Disposals On 14 November 2016, AGL contributed 20% equity funding into the PARF. The value of AGL�s investment at 31 December 2016 is $13 million. Further, on 14 November 2016, AGL completed the divestment of the 102 MW Nyngan and 53 MW Broken Hill solar plants into the PARF, for a consideration of $257 million. Refer to section 1.6 of the Operating & Financial Review for further details relating to the PARF. On 10 November 2016, AGL entered into a US$50 million commitment to the US-based Energy Impact Fund (EIF) global coalition. EIF is a private equity fund that invests in emerging technologies, products, services and business models throughout the electricity supply chain, from generation to consumption. The value of AGL�s investment in EIF at 31 December 2016 is $5 million. 5. Subsequent Events Apart from the matters identified below and elsewhere in this Directors� Report and the interim Financial Report, the Directors are not aware of any other matter or circumstance that has arisen since 31 December 2016 that has significantly affected or may significantly affect the operations of AGL, the results of those operations, or the state of affairs of AGL in the future. On 20 January 2017, AGL announced a new four year agreement to supply electricity to the Portland Smelter Joint Venture Participants� (Alcoa) aluminium smelter in Portland, Victoria. The agreement takes effect from August 2017 when the existing supply contract ends. The agreement is for 510 MW and on commercial terms. 6. Dividends The Directors have declared an interim dividend of 41.0 cents per share, compared with 32.0 cents per share for the prior interim dividend. The dividend will be 80% franked and will be paid on 27 March 2017. The record date to determine shareholders� entitlements to the interim dividend is 24 February 2017. Shares will commence trading ex-dividend on 23 February 2017. On 28 September 2016, AGL announced a change to its dividend policy. AGL will target a payout ratio of approximately 75 percent of Underlying Profit after tax and a minimum franking level of 80 percent. Before declaring the dividend the Directors satisfied themselves that: AGL�s assets exceeded its liabilities immediately before declaring the dividend and the excess was sufficient for the payment of the dividend; the payment of the dividend was fair and reasonable to AGL�s shareholders as a whole; and the payment of the dividend would not materially prejudice AGL�s ability to pay its creditors. AGL is able to pay the unfranked component of the dividend out of certain foreign source income (known as Conduit Foreign Income, or CFI). This is relevant only for non-resident shareholders. The effect is that the unfranked portion of the dividend will not be subject to Australian dividend withholding tax. Under the current level of franking and dividend payout ratio, unfranked dividends could be paid from CFI for approximately 3 years (as from the 2017 interim dividend). Unfranked dividends sourced from CFI have no tax implications for Australian resident shareholders. The AGL Dividend Reinvestment Plan (DRP) will operate in respect of the 2017 interim dividend. AGL will acquire shares on market and allot them to DRP participants at no discount to the simple average of the daily weightedaverage price at which AGL�s ordinary shares trade during each of the 10 trading days commencing 28 February 2017. The last date for shareholders to elect to participate in the DRP for the 2017 interim dividend is 27 February 2017. 5 7. Directors in Office The Directors of AGL Energy Limited who held office during or since the end of the half-year were: First Appointed Jeremy Charles Roy Maycock � Chairman 09 October 2006 (Chairman since 21 October 2010) Andrew Vesey � Managing Director 12 February 2015 Leslie Victor Hosking 01 November 2008 John Victor Stanhope 09 March 2009 Belinda Jane Hutchinson 22 December 2010 Graeme Peter Hunt 01 September 2012 Jacqueline Hey 21 March 2016 Diane Smith-Gander 28 September 2016 Peter Botten 21 October 2016 Bruce John Phillips 23 August 2007 (retired 28 September 2016) 8. Non-IFRS Financial Information The Operating & Financial Review attached to and forming part of this Directors� Report includes a number of non-International Financial Reporting Standards (IFRS) financial measures. AGL management uses these nonIFRS financial measures to assess the performance of the business and make decisions on the allocation of resources. Principal among these non-IFRS financial measures is Underlying Profit. This measure is Statutory Profit/(Loss) adjusted for: � significant items (which are material items of revenue or expense that are unrelated to the underlying performance of the business); and � changes in the fair value of financial instruments recognised in the statement of profit or loss (to remove the volatility caused by mismatches in valuing financial instruments and the underlying asset differently). AGL believes that Underlying Profit provides a better understanding of its financial performance than Statutory Profit/(Loss) and allows for a more relevant comparison of financial performance between financial periods. Underlying Profit is presented with reference to the Australian Securities & Investment Commission (ASIC) Regulatory Guide 230 �Disclosing non-IFRS financial information�, issued in December 2011. AGL�s policy for reporting Underlying Profit is consistent with this guidance. The Directors have had the consistency of the application of the policy reviewed by the external auditor of AGL. 9. Rounding AGL is an entity to which ASIC Corporation Instrument 2016/191 applies and, in accordance with that Instrument, amounts in the Financial Report and this Directors� Report have been rounded to the nearest million dollars, unless otherwise stated. 10. Auditor�s Independence Declaration The auditor�s independence declaration is attached to and forms part of this Directors� Report.\r",
      "\r\n"
     ]
    }
   ],
   "source": [
    "comments = open('data/agl.txt').read()\n",
    "print comments"
   ]
  },
  {
   "cell_type": "markdown",
   "metadata": {},
   "source": [
    "## Sentiment for the AGL example\n",
    "\n",
    "From the pattern web page:\n",
    "> The sentiment() function returns a (polarity, subjectivity)-tuple for the given sentence, based on the adjectives it contains, where polarity is a value between -1.0 and +1.0 and subjectivity between 0.0 and 1.0.\n",
    "\n",
    "I assume we're primarily interested in polarity here, which indicates whether the passage is expressing positive or negative opinions (<0). It could also be interesting to use the measure of subjectivity/objectivity.\n",
    "\n",
    "We'll need to do some calibration and sanity checking over the full dataset to get a sense of how useful these measures are for this data."
   ]
  },
  {
   "cell_type": "code",
   "execution_count": 19,
   "metadata": {},
   "outputs": [
    {
     "name": "stdout",
     "output_type": "stream",
     "text": [
      "Polarity: 0.0366139069264\n",
      "Subjectivity: 0.344818574283\n"
     ]
    }
   ],
   "source": [
    "comments_sentiment = sentiment(comments)\n",
    "print 'Polarity:', comments_sentiment[0]\n",
    "print 'Subjectivity:', comments_sentiment[1]"
   ]
  },
  {
   "cell_type": "markdown",
   "metadata": {},
   "source": [
    "## Word-level sentiment\n",
    "\n",
    "We can also inspect the words from the text that appear in the lexicon and the corresponding polarity and subjectivity values."
   ]
  },
  {
   "cell_type": "code",
   "execution_count": 20,
   "metadata": {},
   "outputs": [
    {
     "data": {
      "text/plain": [
       "[(['present'], 0.0, 0.0, None),\n",
       " (['limited'], -0.07142857142857142, 0.14285714285714285, None),\n",
       " (['financial'], 0.0, 0.0, None),\n",
       " (['prior'], 0.0, 0.0, None),\n",
       " (['financial'], 0.0, 0.0, None),\n",
       " (['action'], 0.1, 0.1, None),\n",
       " (['responsibly'], 0.2, 0.55, None),\n",
       " (['secure'], 0.4, 0.6, None),\n",
       " (['related'], 0.0, 0.4, None),\n",
       " (['base'], -0.8, 1.0, None),\n",
       " (['traditional'], 0.0, 0.75, None),\n",
       " (['related'], 0.0, 0.4, None),\n",
       " (['natural'], 0.1, 0.4, None),\n",
       " (['digital'], 0.0, 0.0, None),\n",
       " (['other'], -0.125, 0.375, None),\n",
       " (['natural'], 0.1, 0.4, None),\n",
       " (['related'], 0.0, 0.4, None),\n",
       " (['currently'], 0.0, 0.4, None),\n",
       " (['approximately'], -0.4, 0.6, None),\n",
       " (['responsible'], 0.2, 0.55, None),\n",
       " (['satisfying'], 0.5, 1.0, None),\n",
       " (['traditional'], 0.0, 0.75, None),\n",
       " (['natural'], 0.1, 0.4, None),\n",
       " (['various'], 0.0, 0.5, None),\n",
       " (['related'], 0.0, 0.4, None),\n",
       " (['australian'], 0.0, 0.0, None),\n",
       " (['same'], 0.0, 0.125, None),\n",
       " (['internal'], 0.0, 0.0, None),\n",
       " (['satisfying'], 0.5, 1.0, None),\n",
       " (['previous'], -0.16666666666666666, 0.16666666666666666, None),\n",
       " (['new'], 0.13636363636363635, 0.45454545454545453, None),\n",
       " (['other'], -0.125, 0.375, None),\n",
       " (['new'], 0.13636363636363635, 0.45454545454545453, None),\n",
       " (['new'], 0.13636363636363635, 0.45454545454545453, None),\n",
       " (['centrally'], 0.0, 0.25, None),\n",
       " (['following'], 0.0, 0.1, None),\n",
       " (['formerly'], 0.0, 0.0, None),\n",
       " (['new'], 0.13636363636363635, 0.45454545454545453, None),\n",
       " (['natural'], 0.1, 0.4, None),\n",
       " (['related'], 0.0, 0.4, None),\n",
       " (['other'], -0.125, 0.375, None),\n",
       " (['responsible'], 0.2, 0.55, None),\n",
       " (['green'], -0.2, 0.3, None),\n",
       " (['key'], 0.0, 1.0, None),\n",
       " (['independent'], 0.0, 0.125, None),\n",
       " (['regular'], 0.0, 0.07692307692307693, None),\n",
       " (['commercial'], 0.0, 0.0, None),\n",
       " (['overall'], 0.0, 0.0, None),\n",
       " (['responsible'], 0.2, 0.55, None),\n",
       " (['key'], 0.0, 1.0, None),\n",
       " (['commercial'], 0.0, 0.0, None),\n",
       " (['responsible'], 0.2, 0.55, None),\n",
       " (['other'], -0.125, 0.375, None),\n",
       " (['internal'], 0.0, 0.0, None),\n",
       " (['other'], -0.125, 0.375, None),\n",
       " (['responsible'], 0.2, 0.55, None),\n",
       " (['related'], 0.0, 0.4, None),\n",
       " (['responsible'], 0.2, 0.55, None),\n",
       " (['green'], -0.2, 0.3, None),\n",
       " (['new'], 0.13636363636363635, 0.45454545454545453, None),\n",
       " (['commercial'], 0.0, 0.0, None),\n",
       " (['following'], 0.0, 0.1, None),\n",
       " (['natural'], 0.1, 0.4, None),\n",
       " (['other'], -0.125, 0.375, None),\n",
       " (['technical'], 0.0, 0.1, None),\n",
       " (['above'], 0.0, 0.1, None),\n",
       " (['only'], 0.0, 1.0, None),\n",
       " (['major'], 0.0625, 0.5, None),\n",
       " (['approximately'], -0.4, 0.6, None),\n",
       " (['black'], -0.16666666666666666, 0.43333333333333335, None),\n",
       " (['approximately'], -0.4, 0.6, None),\n",
       " (['open'], 0.0, 0.5, None),\n",
       " (['approximately'], -0.4, 0.6, None),\n",
       " (['natural'], 0.1, 0.4, None),\n",
       " (['primary'], 0.4, 0.5, None),\n",
       " (['total'], 0.0, 0.75, None),\n",
       " (['broken'], -0.4, 0.4, None),\n",
       " (['financial'], 0.0, 0.0, None),\n",
       " (['further'], 0.0, 0.5, None),\n",
       " (['natural'], 0.1, 0.4, None),\n",
       " (['following'], 0.0, 0.1, None),\n",
       " (['natural'], 0.1, 0.4, None),\n",
       " (['such'], 0.0, 0.5, None),\n",
       " (['previously'], -0.16666666666666666, 0.16666666666666666, None),\n",
       " (['new'], 0.13636363636363635, 0.45454545454545453, None),\n",
       " (['active'], -0.13333333333333333, 0.6, None),\n",
       " (['digital'], 0.0, 0.0, None),\n",
       " (['natural'], 0.1, 0.4, None),\n",
       " (['early'], 0.1, 0.3, None),\n",
       " (['new'], 0.13636363636363635, 0.45454545454545453, None),\n",
       " (['various'], 0.0, 0.5, None),\n",
       " (['related'], 0.0, 0.4, None),\n",
       " (['limited'], -0.07142857142857142, 0.14285714285714285, None),\n",
       " (['formerly'], 0.0, 0.0, None),\n",
       " (['first'], 0.25, 0.3333333333333333, None),\n",
       " (['private'], 0.0, 0.375, None),\n",
       " (['publicly'], 0.0, 0.06666666666666667, None),\n",
       " (['centrally'], 0.0, 0.25, None),\n",
       " (['centrally'], 0.0, 0.25, None),\n",
       " (['various'], 0.0, 0.5, None),\n",
       " (['corporate'], 0.0, 0.0, None),\n",
       " (['new'], 0.13636363636363635, 0.45454545454545453, None),\n",
       " (['formerly'], 0.0, 0.0, None),\n",
       " (['new'], 0.13636363636363635, 0.45454545454545453, None),\n",
       " (['commercial'], 0.0, 0.0, None),\n",
       " (['financial'], 0.0, 0.0, None),\n",
       " (['further'], 0.0, 0.5, None),\n",
       " (['broken'], -0.4, 0.4, None),\n",
       " (['financial'], 0.0, 0.0, None),\n",
       " (['further'], 0.0, 0.5, None),\n",
       " (['global'], 0.0, 0.0, None),\n",
       " (['private'], 0.0, 0.375, None),\n",
       " (['subsequent'], 0.0, 0.05, None),\n",
       " (['financial'], 0.0, 0.0, None),\n",
       " (['not', 'aware'], -0.125, 0.25, None),\n",
       " (['other'], -0.125, 0.375, None),\n",
       " (['significantly'], 0.375, 0.875, None),\n",
       " (['significantly'], 0.375, 0.875, None),\n",
       " (['future'], 0.0, 0.125, None),\n",
       " (['new'], 0.13636363636363635, 0.45454545454545453, None),\n",
       " (['commercial'], 0.0, 0.0, None),\n",
       " (['prior'], 0.0, 0.0, None),\n",
       " (['approximately'], -0.4, 0.6, None),\n",
       " (['satisfied'], 0.5, 1.0, None),\n",
       " (['fair'], 0.7, 0.9, None),\n",
       " (['reasonable'], 0.2, 0.6, None),\n",
       " (['whole'], 0.2, 0.4, None),\n",
       " (['able'], 0.5, 0.625, None),\n",
       " (['certain'], 0.21428571428571427, 0.5714285714285714, None),\n",
       " (['foreign'], -0.125, 0.125, None),\n",
       " (['foreign'], -0.125, 0.125, None),\n",
       " (['relevant'], 0.4, 0.9, None),\n",
       " (['only'], 0.0, 1.0, None),\n",
       " (['subject'], -0.16666666666666666, 0.3333333333333333, None),\n",
       " (['australian'], 0.0, 0.0, None),\n",
       " (['current'], 0.0, 0.4, None),\n",
       " (['approximately'], -0.4, 0.6, None),\n",
       " (['australian'], 0.0, 0.0, None),\n",
       " (['simple'], 0.0, 0.35714285714285715, None),\n",
       " (['average'], -0.15, 0.39999999999999997, None),\n",
       " (['daily'], 0.0, 0.0, None),\n",
       " (['ordinary'], -0.25, 0.5, None),\n",
       " (['last'], 0.0, 0.06666666666666667, None),\n",
       " (['elect'], 0.8, 0.9, None),\n",
       " (['limited'], -0.07142857142857142, 0.14285714285714285, None),\n",
       " (['first'], 0.25, 0.3333333333333333, None),\n",
       " (['financial'], 0.0, 0.0, None),\n",
       " (['financial'], 0.0, 0.0, None),\n",
       " (['financial'], 0.0, 0.0, None),\n",
       " (['financial'], 0.0, 0.0, None),\n",
       " (['financial'], 0.0, 0.0, None),\n",
       " (['financial'], 0.0, 0.0, None),\n",
       " (['significant'], 0.375, 0.875, None),\n",
       " (['fair'], 0.7, 0.9, None),\n",
       " (['financial'], 0.0, 0.0, None),\n",
       " (['financial'], 0.0, 0.0, None),\n",
       " (['differently'], 0.0, 0.6, None),\n",
       " (['better'], 0.5, 0.5, None),\n",
       " (['financial'], 0.0, 0.0, None),\n",
       " (['more'], 0.5, 0.5, None),\n",
       " (['relevant'], 0.4, 0.9, None),\n",
       " (['financial'], 0.0, 0.0, None),\n",
       " (['financial'], 0.0, 0.0, None),\n",
       " (['australian'], 0.0, 0.0, None),\n",
       " (['financial'], 0.0, 0.0, None),\n",
       " (['consistent'], 0.25, 0.25, None),\n",
       " (['external'], 0.0, 0.1, None),\n",
       " (['financial'], 0.0, 0.0, None)]"
      ]
     },
     "execution_count": 20,
     "metadata": {},
     "output_type": "execute_result"
    }
   ],
   "source": [
    "sentiment(s).assessments"
   ]
  },
  {
   "cell_type": "code",
   "execution_count": null,
   "metadata": {
    "collapsed": true
   },
   "outputs": [],
   "source": []
  }
 ],
 "metadata": {
  "kernelspec": {
   "display_name": "Python 2",
   "language": "python",
   "name": "python2"
  },
  "language_info": {
   "codemirror_mode": {
    "name": "ipython",
    "version": 2
   },
   "file_extension": ".py",
   "mimetype": "text/x-python",
   "name": "python",
   "nbconvert_exporter": "python",
   "pygments_lexer": "ipython2",
   "version": "2.7.13"
  }
 },
 "nbformat": 4,
 "nbformat_minor": 2
}
